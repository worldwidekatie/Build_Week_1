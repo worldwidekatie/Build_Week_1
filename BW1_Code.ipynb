{
  "nbformat": 4,
  "nbformat_minor": 0,
  "metadata": {
    "colab": {
      "name": "BW1_Code.ipynb",
      "provenance": [],
      "authorship_tag": "ABX9TyOEzKllq9EWKeJ6y5RTysV/",
      "include_colab_link": true
    },
    "kernelspec": {
      "name": "python3",
      "display_name": "Python 3"
    }
  },
  "cells": [
    {
      "cell_type": "markdown",
      "metadata": {
        "id": "view-in-github",
        "colab_type": "text"
      },
      "source": [
        "<a href=\"https://colab.research.google.com/github/worldwidekatie/Build_Week_1/blob/master/BW1_Code.ipynb\" target=\"_parent\"><img src=\"https://colab.research.google.com/assets/colab-badge.svg\" alt=\"Open In Colab\"/></a>"
      ]
    },
    {
      "cell_type": "markdown",
      "metadata": {
        "id": "TE0wIy7KIpLH",
        "colab_type": "text"
      },
      "source": [
        "# **Internet Attitudes Qualitative Analysis**\n"
      ]
    },
    {
      "cell_type": "markdown",
      "metadata": {
        "id": "poGKKekKKV7M",
        "colab_type": "text"
      },
      "source": [
        "#1. Import libraries. Get and clean dataset."
      ]
    },
    {
      "cell_type": "code",
      "metadata": {
        "id": "gPMLW7roIoFC",
        "colab_type": "code",
        "colab": {
          "base_uri": "https://localhost:8080/",
          "height": 204
        },
        "outputId": "916fc7f7-139c-48b7-f403-b10a41db1772"
      },
      "source": [
        "import pandas as pd\n",
        "import numpy as np\n",
        "from scipy import stats\n",
        "import matplotlib.pyplot as plt\n",
        "import matplotlib\n",
        "plt.style.use('fivethirtyeight')\n",
        "\n",
        "df = pd.read_csv(\"https://raw.githubusercontent.com/worldwidekatie/Build_Week_1/master/Build_Week_1_Data%20.csv\")\n",
        "df = df.replace({np.NaN: 0, \"Spanish\": 0, \"English\": 1})\n",
        "df = df[['emplnw', 'party_lean', 'Spanish', 'Info', 'Economic', 'Connection', 'Tool']]\n",
        "df.head()"
      ],
      "execution_count": 1,
      "outputs": [
        {
          "output_type": "execute_result",
          "data": {
            "text/html": [
              "<div>\n",
              "<style scoped>\n",
              "    .dataframe tbody tr th:only-of-type {\n",
              "        vertical-align: middle;\n",
              "    }\n",
              "\n",
              "    .dataframe tbody tr th {\n",
              "        vertical-align: top;\n",
              "    }\n",
              "\n",
              "    .dataframe thead th {\n",
              "        text-align: right;\n",
              "    }\n",
              "</style>\n",
              "<table border=\"1\" class=\"dataframe\">\n",
              "  <thead>\n",
              "    <tr style=\"text-align: right;\">\n",
              "      <th></th>\n",
              "      <th>emplnw</th>\n",
              "      <th>party_lean</th>\n",
              "      <th>Spanish</th>\n",
              "      <th>Info</th>\n",
              "      <th>Economic</th>\n",
              "      <th>Connection</th>\n",
              "      <th>Tool</th>\n",
              "    </tr>\n",
              "  </thead>\n",
              "  <tbody>\n",
              "    <tr>\n",
              "      <th>0</th>\n",
              "      <td>3</td>\n",
              "      <td>4</td>\n",
              "      <td>0</td>\n",
              "      <td>1.0</td>\n",
              "      <td>0.0</td>\n",
              "      <td>1.0</td>\n",
              "      <td>0.0</td>\n",
              "    </tr>\n",
              "    <tr>\n",
              "      <th>1</th>\n",
              "      <td>1</td>\n",
              "      <td>4</td>\n",
              "      <td>0</td>\n",
              "      <td>1.0</td>\n",
              "      <td>0.0</td>\n",
              "      <td>0.0</td>\n",
              "      <td>0.0</td>\n",
              "    </tr>\n",
              "    <tr>\n",
              "      <th>2</th>\n",
              "      <td>1</td>\n",
              "      <td>2</td>\n",
              "      <td>0</td>\n",
              "      <td>0.0</td>\n",
              "      <td>0.0</td>\n",
              "      <td>0.0</td>\n",
              "      <td>1.0</td>\n",
              "    </tr>\n",
              "    <tr>\n",
              "      <th>3</th>\n",
              "      <td>4</td>\n",
              "      <td>2</td>\n",
              "      <td>0</td>\n",
              "      <td>0.0</td>\n",
              "      <td>1.0</td>\n",
              "      <td>0.0</td>\n",
              "      <td>0.0</td>\n",
              "    </tr>\n",
              "    <tr>\n",
              "      <th>4</th>\n",
              "      <td>4</td>\n",
              "      <td>9</td>\n",
              "      <td>0</td>\n",
              "      <td>1.0</td>\n",
              "      <td>0.0</td>\n",
              "      <td>0.0</td>\n",
              "      <td>0.0</td>\n",
              "    </tr>\n",
              "  </tbody>\n",
              "</table>\n",
              "</div>"
            ],
            "text/plain": [
              "   emplnw  party_lean  Spanish  Info  Economic  Connection  Tool\n",
              "0       3           4        0   1.0       0.0         1.0   0.0\n",
              "1       1           4        0   1.0       0.0         0.0   0.0\n",
              "2       1           2        0   0.0       0.0         0.0   1.0\n",
              "3       4           2        0   0.0       1.0         0.0   0.0\n",
              "4       4           9        0   1.0       0.0         0.0   0.0"
            ]
          },
          "metadata": {
            "tags": []
          },
          "execution_count": 1
        }
      ]
    },
    {
      "cell_type": "markdown",
      "metadata": {
        "id": "Jb7WMnGMUQzx",
        "colab_type": "text"
      },
      "source": [
        "#2. Define Functions\n",
        "\n"
      ]
    },
    {
      "cell_type": "code",
      "metadata": {
        "id": "rWGF2b-AUNwC",
        "colab_type": "code",
        "colab": {}
      },
      "source": [
        "#Function for t-tests\n",
        "def Ttest_loop(df1, df2):\n",
        "  themes = df1.columns.tolist()\n",
        "  output=[]\n",
        "\n",
        "  for theme in themes:\n",
        "    output.append([theme, df1[theme].mean(), df2[theme].mean(), \n",
        "                   stats.ttest_ind(df1[theme], df2[theme], nan_policy='omit')])\n",
        "\n",
        "  output2 = pd.DataFrame([[i[0], i[1], i[2], i[3][0], i[3][1]] for i in output],\n",
        "                  columns=['theme', 'df1', 'df2', 't-statistic', 'p-value'])\n",
        "\n",
        "  return output2.sort_values(by=['p-value'])"
      ],
      "execution_count": 0,
      "outputs": []
    },
    {
      "cell_type": "markdown",
      "metadata": {
        "id": "LK_MHDV5JG8L",
        "colab_type": "text"
      },
      "source": [
        "#3. Run t-test and make graphs\n",
        "## 3a. Starting with political party"
      ]
    },
    {
      "cell_type": "code",
      "metadata": {
        "id": "cjHT18YVIoBd",
        "colab_type": "code",
        "outputId": "62cd99d4-2751-4fdf-d95c-6f190416f7fc",
        "colab": {
          "base_uri": "https://localhost:8080/",
          "height": 266
        }
      },
      "source": [
        "#T-Tests\n",
        "rep = df[df['party_lean']==1]\n",
        "dem = df[df['party_lean']==2]\n",
        "\n",
        "Ttest_loop(rep, dem)"
      ],
      "execution_count": 3,
      "outputs": [
        {
          "output_type": "execute_result",
          "data": {
            "text/html": [
              "<div>\n",
              "<style scoped>\n",
              "    .dataframe tbody tr th:only-of-type {\n",
              "        vertical-align: middle;\n",
              "    }\n",
              "\n",
              "    .dataframe tbody tr th {\n",
              "        vertical-align: top;\n",
              "    }\n",
              "\n",
              "    .dataframe thead th {\n",
              "        text-align: right;\n",
              "    }\n",
              "</style>\n",
              "<table border=\"1\" class=\"dataframe\">\n",
              "  <thead>\n",
              "    <tr style=\"text-align: right;\">\n",
              "      <th></th>\n",
              "      <th>theme</th>\n",
              "      <th>df1</th>\n",
              "      <th>df2</th>\n",
              "      <th>t-statistic</th>\n",
              "      <th>p-value</th>\n",
              "    </tr>\n",
              "  </thead>\n",
              "  <tbody>\n",
              "    <tr>\n",
              "      <th>1</th>\n",
              "      <td>party_lean</td>\n",
              "      <td>1.000000</td>\n",
              "      <td>2.000000</td>\n",
              "      <td>-inf</td>\n",
              "      <td>0.000000</td>\n",
              "    </tr>\n",
              "    <tr>\n",
              "      <th>2</th>\n",
              "      <td>Spanish</td>\n",
              "      <td>0.974239</td>\n",
              "      <td>0.937685</td>\n",
              "      <td>2.767966</td>\n",
              "      <td>0.005736</td>\n",
              "    </tr>\n",
              "    <tr>\n",
              "      <th>3</th>\n",
              "      <td>Info</td>\n",
              "      <td>0.658080</td>\n",
              "      <td>0.632047</td>\n",
              "      <td>0.877500</td>\n",
              "      <td>0.380407</td>\n",
              "    </tr>\n",
              "    <tr>\n",
              "      <th>6</th>\n",
              "      <td>Tool</td>\n",
              "      <td>0.072600</td>\n",
              "      <td>0.060831</td>\n",
              "      <td>0.769154</td>\n",
              "      <td>0.441967</td>\n",
              "    </tr>\n",
              "    <tr>\n",
              "      <th>4</th>\n",
              "      <td>Economic</td>\n",
              "      <td>0.046838</td>\n",
              "      <td>0.050445</td>\n",
              "      <td>-0.269772</td>\n",
              "      <td>0.787387</td>\n",
              "    </tr>\n",
              "    <tr>\n",
              "      <th>5</th>\n",
              "      <td>Connection</td>\n",
              "      <td>0.290398</td>\n",
              "      <td>0.287834</td>\n",
              "      <td>0.091394</td>\n",
              "      <td>0.927196</td>\n",
              "    </tr>\n",
              "    <tr>\n",
              "      <th>0</th>\n",
              "      <td>emplnw</td>\n",
              "      <td>2.309133</td>\n",
              "      <td>2.324926</td>\n",
              "      <td>-0.078323</td>\n",
              "      <td>0.937585</td>\n",
              "    </tr>\n",
              "  </tbody>\n",
              "</table>\n",
              "</div>"
            ],
            "text/plain": [
              "        theme       df1       df2  t-statistic   p-value\n",
              "1  party_lean  1.000000  2.000000         -inf  0.000000\n",
              "2     Spanish  0.974239  0.937685     2.767966  0.005736\n",
              "3        Info  0.658080  0.632047     0.877500  0.380407\n",
              "6        Tool  0.072600  0.060831     0.769154  0.441967\n",
              "4    Economic  0.046838  0.050445    -0.269772  0.787387\n",
              "5  Connection  0.290398  0.287834     0.091394  0.927196\n",
              "0      emplnw  2.309133  2.324926    -0.078323  0.937585"
            ]
          },
          "metadata": {
            "tags": []
          },
          "execution_count": 3
        }
      ]
    },
    {
      "cell_type": "code",
      "metadata": {
        "id": "AKpCjX6RKgYu",
        "colab_type": "code",
        "outputId": "46044b36-dd33-4e22-dee7-bfa82fcd24f2",
        "colab": {
          "base_uri": "https://localhost:8080/",
          "height": 320
        }
      },
      "source": [
        "#Graph\n",
        "rep_means = [7, 5, 29, 66]\n",
        "dem_means = [6, 5, 29, 63]\n",
        "labels = ['Tool', 'Economic', 'Connection', 'Information']\n",
        "x = np.array([-0.175,  0.825,  1.825,  2.825])\n",
        "z = np.array([0.175, 1.175, 2.175, 3.175])\n",
        "\n",
        "fig, ax = plt.subplots()\n",
        "ax.barh(x, dem_means, 0.35, label='Democrat', color='#0f9df5')\n",
        "ax.barh(z, rep_means, 0.35, label='Republican', color='#ed0e0e')\n",
        "\n",
        "ax.set_xlabel('% of Respondents who Reported Each Theme', fontsize=12)\n",
        "ax.set_title('Republicans vs Democrats')\n",
        "ax.set_yticks(x)\n",
        "ax.set_ylim(-0.535, 3.535)\n",
        "ax.set_yticklabels(labels)\n",
        "ax.legend(loc='lower right')\n",
        "ax.set_xlim(0, 100)\n",
        "ax.set_xticklabels(['0%', '20%', '40%', '60%', '80%', '100%'])\n",
        "\n",
        "#Information Labels\n",
        "ax.text(s=\"66%\", y=3.05, x=67, fontsize=12)\n",
        "ax.text(s=\"63%\", y=2.7, x=64, fontsize=12)\n",
        "#ax.text(s=\"p-value .4\", y=3, x=73, fontsize=12)\n",
        "\n",
        "#Connection Labels\n",
        "ax.text(s=\"29%\", y=2.1, x=30, fontsize=12)\n",
        "ax.text(s=\"29%\", y=1.7, x=30, fontsize=12)\n",
        "#ax.text(s=\"p-value .9\", y=2, x=38, fontsize=12)\n",
        "\n",
        "#Economic Labels\n",
        "ax.text(s=\"5%\", y=1.1, x=6, fontsize=12)\n",
        "ax.text(s=\"5%\", y=0.7, x=6, fontsize=12)\n",
        "#ax.text(s=\"p-value .8\", y=1, x=14, fontsize=12)\n",
        "\n",
        "#Tool Labels\n",
        "ax.text(s=\"7%\", y=0.1, x=8, fontsize=12)\n",
        "ax.text(s=\"6%\", y=-0.3, x=7, fontsize=12)\n",
        "#ax.text(s=\"p-value .4\", y=0, x=16, fontsize=12)\n",
        "\n",
        "# Set Figure background color\n",
        "fig.set_facecolor(color=\"None\")\n",
        "\n",
        "# Set the Axes background color\n",
        "ax.set_facecolor(color=\"None\")\n",
        "\n",
        "# Turn off the spine\n",
        "ax.spines['left'].set_visible(False)\n",
        "ax.spines['right'].set_visible(False)\n",
        "ax.spines['top'].set_visible(False)\n",
        "ax.spines['bottom'].set_visible(False)\n",
        "\n",
        "plt.show()"
      ],
      "execution_count": 4,
      "outputs": [
        {
          "output_type": "display_data",
          "data": {
            "image/png": "[encoded data removed]",
            "text/plain": [
              "<Figure size 432x288 with 1 Axes>"
            ]
          },
          "metadata": {
            "tags": []
          }
        }
      ]
    },
    {
      "cell_type": "markdown",
      "metadata": {
        "id": "B-AIZEyZPOCJ",
        "colab_type": "text"
      },
      "source": [
        "## 3b. Employed Full-Time vs Self-Employed"
      ]
    },
    {
      "cell_type": "code",
      "metadata": {
        "id": "KuU0GwAtPIUE",
        "colab_type": "code",
        "outputId": "f2c48aa1-0426-4bb4-a7ed-bdd6aae730d8",
        "colab": {
          "base_uri": "https://localhost:8080/",
          "height": 266
        }
      },
      "source": [
        "#T-Tests\n",
        "Employed = df[df['emplnw']==1]\n",
        "Self_Employed = df[df['emplnw']==5]\n",
        "\n",
        "Ttest_loop(Employed, Self_Employed)"
      ],
      "execution_count": 5,
      "outputs": [
        {
          "output_type": "execute_result",
          "data": {
            "text/html": [
              "<div>\n",
              "<style scoped>\n",
              "    .dataframe tbody tr th:only-of-type {\n",
              "        vertical-align: middle;\n",
              "    }\n",
              "\n",
              "    .dataframe tbody tr th {\n",
              "        vertical-align: top;\n",
              "    }\n",
              "\n",
              "    .dataframe thead th {\n",
              "        text-align: right;\n",
              "    }\n",
              "</style>\n",
              "<table border=\"1\" class=\"dataframe\">\n",
              "  <thead>\n",
              "    <tr style=\"text-align: right;\">\n",
              "      <th></th>\n",
              "      <th>theme</th>\n",
              "      <th>df1</th>\n",
              "      <th>df2</th>\n",
              "      <th>t-statistic</th>\n",
              "      <th>p-value</th>\n",
              "    </tr>\n",
              "  </thead>\n",
              "  <tbody>\n",
              "    <tr>\n",
              "      <th>0</th>\n",
              "      <td>emplnw</td>\n",
              "      <td>1.000000</td>\n",
              "      <td>5.000000</td>\n",
              "      <td>-inf</td>\n",
              "      <td>0.000000</td>\n",
              "    </tr>\n",
              "    <tr>\n",
              "      <th>2</th>\n",
              "      <td>Spanish</td>\n",
              "      <td>0.933549</td>\n",
              "      <td>1.000000</td>\n",
              "      <td>-1.746851</td>\n",
              "      <td>0.081130</td>\n",
              "    </tr>\n",
              "    <tr>\n",
              "      <th>3</th>\n",
              "      <td>Info</td>\n",
              "      <td>0.669368</td>\n",
              "      <td>0.627907</td>\n",
              "      <td>0.556921</td>\n",
              "      <td>0.577771</td>\n",
              "    </tr>\n",
              "    <tr>\n",
              "      <th>6</th>\n",
              "      <td>Tool</td>\n",
              "      <td>0.071313</td>\n",
              "      <td>0.093023</td>\n",
              "      <td>-0.529364</td>\n",
              "      <td>0.596731</td>\n",
              "    </tr>\n",
              "    <tr>\n",
              "      <th>5</th>\n",
              "      <td>Connection</td>\n",
              "      <td>0.273906</td>\n",
              "      <td>0.302326</td>\n",
              "      <td>-0.402635</td>\n",
              "      <td>0.687348</td>\n",
              "    </tr>\n",
              "    <tr>\n",
              "      <th>4</th>\n",
              "      <td>Economic</td>\n",
              "      <td>0.056726</td>\n",
              "      <td>0.069767</td>\n",
              "      <td>-0.354460</td>\n",
              "      <td>0.723108</td>\n",
              "    </tr>\n",
              "    <tr>\n",
              "      <th>1</th>\n",
              "      <td>party_lean</td>\n",
              "      <td>2.131280</td>\n",
              "      <td>2.116279</td>\n",
              "      <td>0.060865</td>\n",
              "      <td>0.951485</td>\n",
              "    </tr>\n",
              "  </tbody>\n",
              "</table>\n",
              "</div>"
            ],
            "text/plain": [
              "        theme       df1       df2  t-statistic   p-value\n",
              "0      emplnw  1.000000  5.000000         -inf  0.000000\n",
              "2     Spanish  0.933549  1.000000    -1.746851  0.081130\n",
              "3        Info  0.669368  0.627907     0.556921  0.577771\n",
              "6        Tool  0.071313  0.093023    -0.529364  0.596731\n",
              "5  Connection  0.273906  0.302326    -0.402635  0.687348\n",
              "4    Economic  0.056726  0.069767    -0.354460  0.723108\n",
              "1  party_lean  2.131280  2.116279     0.060865  0.951485"
            ]
          },
          "metadata": {
            "tags": []
          },
          "execution_count": 5
        }
      ]
    },
    {
      "cell_type": "code",
      "metadata": {
        "id": "n3N3CACrIn-6",
        "colab_type": "code",
        "outputId": "4b8deccc-1a34-4be8-ae08-7543726617e2",
        "colab": {
          "base_uri": "https://localhost:8080/",
          "height": 320
        }
      },
      "source": [
        "#Chart\n",
        "employed_means = [7, 6, 27, 67]\n",
        "self_employed_means = [9, 7, 30, 63]\n",
        "labels = ['Tool', 'Economic', 'Connection', 'Information']\n",
        "x = np.array([-0.175,  0.825,  1.825,  2.825])\n",
        "z = np.array([0.175, 1.175, 2.175, 3.175])\n",
        "\n",
        "fig, ax = plt.subplots()\n",
        "ax.barh(x, employed_means, 0.35, label='Employed Full-Time', color='#0f9df5')\n",
        "ax.barh(z, self_employed_means, 0.35, label='Self-Employed', color='#ed0e0e')\n",
        "\n",
        "\n",
        "ax.set_xlabel('% of Respondents who Reported Theme', fontsize=12)\n",
        "ax.set_title('Full-Time Employed vs Self-Employed')\n",
        "ax.set_yticks(x)\n",
        "ax.set_ylim(-0.535, 3.535)\n",
        "ax.set_yticklabels(labels)\n",
        "ax.legend(loc='lower right')\n",
        "ax.set_xlim(0, 100)\n",
        "\n",
        "#Information Labels\n",
        "ax.text(s=\"63%\", y=3.1, x=64, fontsize=12)\n",
        "ax.text(s=\"67%\", y=2.7, x=68, fontsize=12)\n",
        "#ax.text(s=\"p-value .6\", y=3, x=74, fontsize=12)\n",
        "\n",
        "#Connection Labels\n",
        "ax.text(s=\"30%\", y=2.1, x=31, fontsize=12)\n",
        "ax.text(s=\"27%\", y=1.7, x=28, fontsize=12)\n",
        "#ax.text(s=\"p-value .7\", y=2, x=39, fontsize=12)\n",
        "\n",
        "#Economic Labels\n",
        "ax.text(s=\"7%\", y=1.1, x=8, fontsize=12)\n",
        "ax.text(s=\"6%\", y=0.7, x=7, fontsize=12)\n",
        "#ax.text(s=\"p-value .7\", y=1, x=14, fontsize=12)\n",
        "\n",
        "#Tool Labels\n",
        "ax.text(s=\"9%\", y=0.1, x=10, fontsize=12)\n",
        "ax.text(s=\"7%\", y=-0.3, x=7, fontsize=12)\n",
        "#ax.text(s=\"p-value .6\", y=0, x=16, fontsize=12)\n",
        "\n",
        "# Take away background color\n",
        "fig.set_facecolor(color=\"None\")\n",
        "ax.set_facecolor(color=\"None\")\n",
        "\n",
        "# Turn off spines\n",
        "ax.spines['left'].set_visible(False)\n",
        "ax.spines['right'].set_visible(False)\n",
        "ax.spines['top'].set_visible(False)\n",
        "ax.spines['bottom'].set_visible(False)\n",
        "\n",
        "plt.show()"
      ],
      "execution_count": 6,
      "outputs": [
        {
          "output_type": "display_data",
          "data": {
            "image/png": "[encoded data removed]",
            "text/plain": [
              "<Figure size 432x288 with 1 Axes>"
            ]
          },
          "metadata": {
            "tags": []
          }
        }
      ]
    },
    {
      "cell_type": "markdown",
      "metadata": {
        "id": "xAbaL93aRDAa",
        "colab_type": "text"
      },
      "source": [
        "##3c. Spanish and English"
      ]
    },
    {
      "cell_type": "code",
      "metadata": {
        "id": "uWlzqbKAIn8H",
        "colab_type": "code",
        "outputId": "26eb9955-2b7f-408a-9168-0361032dc728",
        "colab": {
          "base_uri": "https://localhost:8080/",
          "height": 266
        }
      },
      "source": [
        "#T-Tests\n",
        "Spanish = df[df['Spanish']==0]\n",
        "English = df[df['Spanish']==1]\n",
        "\n",
        "Ttest_loop(Spanish, English)"
      ],
      "execution_count": 7,
      "outputs": [
        {
          "output_type": "execute_result",
          "data": {
            "text/html": [
              "<div>\n",
              "<style scoped>\n",
              "    .dataframe tbody tr th:only-of-type {\n",
              "        vertical-align: middle;\n",
              "    }\n",
              "\n",
              "    .dataframe tbody tr th {\n",
              "        vertical-align: top;\n",
              "    }\n",
              "\n",
              "    .dataframe thead th {\n",
              "        text-align: right;\n",
              "    }\n",
              "</style>\n",
              "<table border=\"1\" class=\"dataframe\">\n",
              "  <thead>\n",
              "    <tr style=\"text-align: right;\">\n",
              "      <th></th>\n",
              "      <th>theme</th>\n",
              "      <th>df1</th>\n",
              "      <th>df2</th>\n",
              "      <th>t-statistic</th>\n",
              "      <th>p-value</th>\n",
              "    </tr>\n",
              "  </thead>\n",
              "  <tbody>\n",
              "    <tr>\n",
              "      <th>2</th>\n",
              "      <td>Spanish</td>\n",
              "      <td>0.000000</td>\n",
              "      <td>1.000000</td>\n",
              "      <td>-inf</td>\n",
              "      <td>0.000000</td>\n",
              "    </tr>\n",
              "    <tr>\n",
              "      <th>4</th>\n",
              "      <td>Economic</td>\n",
              "      <td>0.129412</td>\n",
              "      <td>0.039612</td>\n",
              "      <td>3.866309</td>\n",
              "      <td>0.000116</td>\n",
              "    </tr>\n",
              "    <tr>\n",
              "      <th>3</th>\n",
              "      <td>Info</td>\n",
              "      <td>0.447059</td>\n",
              "      <td>0.645918</td>\n",
              "      <td>-3.695966</td>\n",
              "      <td>0.000228</td>\n",
              "    </tr>\n",
              "    <tr>\n",
              "      <th>1</th>\n",
              "      <td>party_lean</td>\n",
              "      <td>2.705882</td>\n",
              "      <td>2.076799</td>\n",
              "      <td>3.633301</td>\n",
              "      <td>0.000291</td>\n",
              "    </tr>\n",
              "    <tr>\n",
              "      <th>6</th>\n",
              "      <td>Tool</td>\n",
              "      <td>0.129412</td>\n",
              "      <td>0.069523</td>\n",
              "      <td>2.050042</td>\n",
              "      <td>0.040558</td>\n",
              "    </tr>\n",
              "    <tr>\n",
              "      <th>5</th>\n",
              "      <td>Connection</td>\n",
              "      <td>0.352941</td>\n",
              "      <td>0.295877</td>\n",
              "      <td>1.110692</td>\n",
              "      <td>0.266903</td>\n",
              "    </tr>\n",
              "    <tr>\n",
              "      <th>0</th>\n",
              "      <td>emplnw</td>\n",
              "      <td>2.247059</td>\n",
              "      <td>3.084074</td>\n",
              "      <td>-0.837226</td>\n",
              "      <td>0.402617</td>\n",
              "    </tr>\n",
              "  </tbody>\n",
              "</table>\n",
              "</div>"
            ],
            "text/plain": [
              "        theme       df1       df2  t-statistic   p-value\n",
              "2     Spanish  0.000000  1.000000         -inf  0.000000\n",
              "4    Economic  0.129412  0.039612     3.866309  0.000116\n",
              "3        Info  0.447059  0.645918    -3.695966  0.000228\n",
              "1  party_lean  2.705882  2.076799     3.633301  0.000291\n",
              "6        Tool  0.129412  0.069523     2.050042  0.040558\n",
              "5  Connection  0.352941  0.295877     1.110692  0.266903\n",
              "0      emplnw  2.247059  3.084074    -0.837226  0.402617"
            ]
          },
          "metadata": {
            "tags": []
          },
          "execution_count": 7
        }
      ]
    },
    {
      "cell_type": "code",
      "metadata": {
        "id": "9eiJeCGVIn5u",
        "colab_type": "code",
        "outputId": "7fe7121d-f41c-4d84-d6b0-abe8858fd549",
        "colab": {
          "base_uri": "https://localhost:8080/",
          "height": 320
        }
      },
      "source": [
        "spanish_means = [13, 13, 35, 45]\n",
        "english_means = [7, 4, 30, 65]\n",
        "labels = ['*Tool', '***Economic', 'Connection', '***Information']\n",
        "x = np.array([-0.175,  0.825,  1.825,  2.825])\n",
        "z = np.array([0.175, 1.175, 2.175, 3.175])\n",
        "\n",
        "fig, ax = plt.subplots()\n",
        "ax.barh(x, spanish_means, 0.35, label='Spanish', color='#0f9df5')\n",
        "ax.barh(z, english_means, 0.35, label='English', color='#ed0e0e')\n",
        "\n",
        "\n",
        "ax.set_xlabel('% of Respondents who Reported Theme', fontsize=12)\n",
        "ax.set_title('English vs Spanish Surveys')\n",
        "ax.set_yticks(x)\n",
        "ax.set_ylim(-0.535, 3.535)\n",
        "ax.set_yticklabels(labels)\n",
        "ax.legend(loc='lower right')\n",
        "ax.set_xlim(0, 100)\n",
        "\n",
        "#Information Labels\n",
        "ax.text(s=\"65%\", y=3.1, x=66, fontsize=12)\n",
        "ax.text(s=\"45%\", y=2.7, x=46, fontsize=12)\n",
        "ax.text(s=\"p-value .0002\", y=2.5, x=-24, fontsize=12)\n",
        "\n",
        "#Connection Labels\n",
        "ax.text(s=\"30%\", y=2.1, x=31, fontsize=12)\n",
        "ax.text(s=\"35%\", y=1.7, x=36, fontsize=12)\n",
        "#ax.text(s=\"p-value .3\", y=1.8, x=45, fontsize=12)\n",
        "\n",
        "#Economic Labels\n",
        "ax.text(s=\"4%\", y=1.1, x=5, fontsize=12)\n",
        "ax.text(s=\"13%\", y=0.7, x=14, fontsize=12)\n",
        "ax.text(s=\"p-value .0001\", y=0.5, x=-24, fontsize=12)\n",
        "\n",
        "#Tool Labels\n",
        "ax.text(s=\"7%\", y=0.1, x=8, fontsize=12)\n",
        "ax.text(s=\"13%\", y=-0.3, x=14, fontsize=12)\n",
        "ax.text(s=\"p-value .04\", y=-0.5, x=-20, fontsize=12)\n",
        "\n",
        "# Take away background color\n",
        "fig.set_facecolor(color=\"None\")\n",
        "ax.set_facecolor(color=\"None\")\n",
        "\n",
        "# Turn off spines\n",
        "ax.spines['left'].set_visible(False)\n",
        "ax.spines['right'].set_visible(False)\n",
        "ax.spines['top'].set_visible(False)\n",
        "ax.spines['bottom'].set_visible(False)\n",
        "\n",
        "plt.show()"
      ],
      "execution_count": 8,
      "outputs": [
        {
          "output_type": "display_data",
          "data": {
            "image/png": "[encoded data removed]",
            "text/plain": [
              "<Figure size 432x288 with 1 Axes>"
            ]
          },
          "metadata": {
            "tags": []
          }
        }
      ]
    },
    {
      "cell_type": "code",
      "metadata": {
        "id": "kQWqKZ8crlad",
        "colab_type": "code",
        "colab": {}
      },
      "source": [
        ""
      ],
      "execution_count": 0,
      "outputs": []
    }
  ]
}